{
 "cells": [
  {
   "cell_type": "code",
   "execution_count": 24,
   "metadata": {},
   "outputs": [],
   "source": [
    "from selenium import webdriver\n",
    "from selenium.webdriver.support import expected_conditions as ec\n",
    "from selenium.webdriver.support.ui import WebDriverWait\n",
    "from selenium.webdriver.common.keys import Keys\n",
    "from selenium.webdriver.common.by import By\n",
    "import time\n",
    "\n",
    "browser = webdriver.Chrome(\"D:/WhatsappAutomation/chromedriver\") #Address where you have installed WebDrivers\n",
    "browser.get(\"https://web.whatsapp.com/\") #For Opening Whatsapp\n",
    "wait = WebDriverWait(browser,600) #Wait for 600 seconds\n",
    "\n",
    "target ='\"Recipients Name\"' #Enter Recipient's or groups name\n",
    "string=\"Hello\" #Enter your message here\n",
    "x_arg='//span[contains(@title, ' + target +')]' #Whatsapp is end-to-end encrypted, so we cannot use id directly\n",
    "target=wait.until(ec.presence_of_element_located((By.XPATH, x_arg)))\n",
    "target.click()\n",
    "\n",
    "input_box=browser.find_element_by_class_name('_1Plpp')\n",
    "for i in range(50): #Write the no. of times you want to send the message\n",
    "    input_box.send_keys(string + Keys.ENTER)"
   ]
  },
  {
   "cell_type": "code",
   "execution_count": null,
   "metadata": {},
   "outputs": [],
   "source": []
  }
 ],
 "metadata": {
  "kernelspec": {
   "display_name": "Python 3",
   "language": "python",
   "name": "python3"
  },
  "language_info": {
   "codemirror_mode": {
    "name": "ipython",
    "version": 3
   },
   "file_extension": ".py",
   "mimetype": "text/x-python",
   "name": "python",
   "nbconvert_exporter": "python",
   "pygments_lexer": "ipython3",
   "version": "3.7.4"
  }
 },
 "nbformat": 4,
 "nbformat_minor": 2
}
