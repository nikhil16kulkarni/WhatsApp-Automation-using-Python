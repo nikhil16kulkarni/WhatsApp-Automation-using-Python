{
 "cells": [
  {
   "cell_type": "code",
   "execution_count": 53,
   "metadata": {},
   "outputs": [
    {
     "name": "stdout",
     "output_type": "stream",
     "text": [
      "Enter the file path : D:/WhatsappAutomation/img1.PNG\n",
      "Enter the message you want to send : Hello\n",
      "Enter no. of times you want to send message : 5\n"
     ]
    }
   ],
   "source": [
    "from selenium import webdriver\n",
    "from selenium.webdriver.support import expected_conditions as ec\n",
    "from selenium.webdriver.support.ui import WebDriverWait\n",
    "from selenium.webdriver.common.keys import Keys\n",
    "from selenium.webdriver.common.by import By\n",
    "import time\n",
    "\n",
    "\n",
    "browser = webdriver.Chrome(\"D:/WhatsappAutomation/chromedriver\") #Address where you have installed WebDrivers\n",
    "browser.get(\"https://web.whatsapp.com/\") #For Opening Whatsapp\n",
    "wait = WebDriverWait(browser,600) #Wait for 600 seconds\n",
    "\n",
    "target ='\"Shreyas_Dada\"' #Enter Recipient's or groups name\n",
    "file_path=input(\"Enter the file path : \") #Enter file path for image or video\n",
    "message=input(\"Enter the message you want to send : \") #Enter your message here\n",
    "no=int(input(\"Enter no. of times you want to send message : \")) #Write the no. of times you want to send the message\n",
    "x_arg='//span[contains(@title, ' + target +')]' #Whatsapp is end-to-end encrypted, so we cannot use id directly\n",
    "target=wait.until(ec.presence_of_element_located((By.XPATH, x_arg)))\n",
    "target.click()\n",
    "\n",
    "input_box=browser.find_element_by_class_name('_1Plpp')\n",
    "\n",
    "for i in range(no): #Write the no. of times you want to send the message\n",
    "    input_box.send_keys(message + Keys.ENTER)\n",
    "\n",
    "from time import sleep\n",
    "\n",
    "#file_path=\"D:/WhatsappAutomation/img2.PNG\"\n",
    "\n",
    "attachment_section = browser.find_element_by_xpath('//div[@title = \"Attach\"]')\n",
    "attachment_section.click()\n",
    "\n",
    "image_box = browser.find_element_by_xpath('//input[@accept=\"image/*,video/mp4,video/3gpp,video/quicktime\"]')\n",
    "image_box.send_keys(file_path)\n",
    "\n",
    "sleep(3)\n",
    "\n",
    "send_button = browser.find_element_by_xpath('//span[@data-icon=\"send-light\"]')\n",
    "send_button.click()\n"
   ]
  },
  {
   "cell_type": "code",
   "execution_count": null,
   "metadata": {},
   "outputs": [],
   "source": []
  },
  {
   "cell_type": "code",
   "execution_count": null,
   "metadata": {},
   "outputs": [],
   "source": []
  }
 ],
 "metadata": {
  "kernelspec": {
   "display_name": "Python 3",
   "language": "python",
   "name": "python3"
  },
  "language_info": {
   "codemirror_mode": {
    "name": "ipython",
    "version": 3
   },
   "file_extension": ".py",
   "mimetype": "text/x-python",
   "name": "python",
   "nbconvert_exporter": "python",
   "pygments_lexer": "ipython3",
   "version": "3.7.4"
  }
 },
 "nbformat": 4,
 "nbformat_minor": 2
}
